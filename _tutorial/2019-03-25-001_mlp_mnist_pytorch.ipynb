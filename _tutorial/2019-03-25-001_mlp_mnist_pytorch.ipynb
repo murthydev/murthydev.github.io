{
 "cells": [
  {
   "cell_type": "markdown",
   "metadata": {
    "toc": true
   },
   "source": [
    "<h1>Table of Contents<span class=\"tocSkip\"></span></h1>\n",
    "<div class=\"toc\"><ul class=\"toc-item\"><li><span><a href=\"#Pytorch-Tutorial-001\" data-toc-modified-id=\"Pytorch-Tutorial-001-1\"><span class=\"toc-item-num\">1&nbsp;&nbsp;</span>Pytorch Tutorial 001</a></span><ul class=\"toc-item\"><li><span><a href=\"#Defining-a-simple-convolutional-neural-network\" data-toc-modified-id=\"Defining-a-simple-convolutional-neural-network-1.1\"><span class=\"toc-item-num\">1.1&nbsp;&nbsp;</span>Defining a simple convolutional neural network</a></span></li><li><span><a href=\"#Configuring-the-network-training-parameters\" data-toc-modified-id=\"Configuring-the-network-training-parameters-1.2\"><span class=\"toc-item-num\">1.2&nbsp;&nbsp;</span>Configuring the network training parameters</a></span></li><li><span><a href=\"#Loading-the-datasets-using-pytorch-dataloaders\" data-toc-modified-id=\"Loading-the-datasets-using-pytorch-dataloaders-1.3\"><span class=\"toc-item-num\">1.3&nbsp;&nbsp;</span>Loading the datasets using pytorch dataloaders</a></span></li><li><span><a href=\"#Setting-up-the-Optimizer-to-optimize-the-loss-function\" data-toc-modified-id=\"Setting-up-the-Optimizer-to-optimize-the-loss-function-1.4\"><span class=\"toc-item-num\">1.4&nbsp;&nbsp;</span>Setting up the Optimizer to optimize the loss function</a></span></li><li><span><a href=\"#Plotting-the-losses-and-Accuracy\" data-toc-modified-id=\"Plotting-the-losses-and-Accuracy-1.5\"><span class=\"toc-item-num\">1.5&nbsp;&nbsp;</span>Plotting the losses and Accuracy</a></span></li></ul></li></ul></div>"
   ]
  },
  {
   "cell_type": "markdown",
   "metadata": {},
   "source": [
    "# Pytorch Tutorial 001"
   ]
  },
  {
   "cell_type": "markdown",
   "metadata": {},
   "source": [
    "Lets train a simple CNN on MNIST dataset. \n"
   ]
  },
  {
   "cell_type": "markdown",
   "metadata": {},
   "source": [
    "## Defining a simple convolutional neural network"
   ]
  },
  {
   "cell_type": "code",
   "execution_count": 1,
   "metadata": {},
   "outputs": [
    {
     "name": "stdout",
     "output_type": "stream",
     "text": [
      "Net(\n",
      "  (conv1): Conv2d(1, 20, kernel_size=(5, 5), stride=(1, 1))\n",
      "  (conv2): Conv2d(20, 50, kernel_size=(5, 5), stride=(1, 1))\n",
      "  (fc1): Linear(in_features=800, out_features=500, bias=True)\n",
      "  (fc2): Linear(in_features=500, out_features=10, bias=True)\n",
      ")\n"
     ]
    }
   ],
   "source": [
    "import torch\n",
    "import torch.nn as nn\n",
    "import torch.nn.functional as F\n",
    "\n",
    "class Net(nn.Module):\n",
    "    def __init__(self):\n",
    "        super(Net, self).__init__()\n",
    "        self.conv1 = nn.Conv2d(1, 20, 5, 1)\n",
    "        self.conv2 = nn.Conv2d(20, 50, 5, 1)\n",
    "        self.fc1 = nn.Linear(4*4*50, 500)\n",
    "        self.fc2 = nn.Linear(500, 10)\n",
    "\n",
    "    def forward(self, x):\n",
    "        x = F.relu(self.conv1(x))\n",
    "        x = F.max_pool2d(x, 2, 2)\n",
    "        x = F.relu(self.conv2(x))\n",
    "        x = F.max_pool2d(x, 2, 2)\n",
    "        x = x.view(-1, 4*4*50)\n",
    "        x = F.relu(self.fc1(x))\n",
    "        x = self.fc2(x)\n",
    "        return F.log_softmax(x, dim=1)\n",
    "net = Net()\n",
    "print(net)"
   ]
  },
  {
   "cell_type": "markdown",
   "metadata": {},
   "source": [
    "## Configuring the network training parameters\n",
    "\n",
    "The configuration to train the network are as below "
   ]
  },
  {
   "cell_type": "code",
   "execution_count": 2,
   "metadata": {},
   "outputs": [],
   "source": [
    "train_batch_size=64\n",
    "test_batch_size=1000\n",
    "epochs =30\n",
    "lr=0.01\n",
    "momentum = 0.5\n",
    "no_cuda = False\n",
    "seed = 1\n",
    "log_interval = 1000\n",
    "save_model = True"
   ]
  },
  {
   "cell_type": "markdown",
   "metadata": {},
   "source": [
    "## Loading the datasets using pytorch dataloaders \n",
    "\n",
    "We use two loader for training set and test set. You can also use an optional validation set. "
   ]
  },
  {
   "cell_type": "code",
   "execution_count": 3,
   "metadata": {},
   "outputs": [
    {
     "name": "stdout",
     "output_type": "stream",
     "text": [
      "Downloading http://yann.lecun.com/exdb/mnist/train-images-idx3-ubyte.gz\n",
      "Downloading http://yann.lecun.com/exdb/mnist/train-labels-idx1-ubyte.gz\n",
      "Downloading http://yann.lecun.com/exdb/mnist/t10k-images-idx3-ubyte.gz\n",
      "Downloading http://yann.lecun.com/exdb/mnist/t10k-labels-idx1-ubyte.gz\n",
      "Processing...\n",
      "Done!\n"
     ]
    }
   ],
   "source": [
    "from torchvision import datasets, transforms\n",
    "use_cuda = False#not no_cuda and torch.cuda.is_available()\n",
    "torch.manual_seed(seed)\n",
    "\n",
    "device = torch.device(\"cuda\" if use_cuda else \"cpu\")\n",
    "\n",
    "kwargs = {'num_workers': 1, 'pin_memory': True} if use_cuda else {}\n",
    "train_loader = torch.utils.data.DataLoader(datasets.MNIST('data', train=True, download=True,\n",
    "                    transform=transforms.Compose([transforms.ToTensor(),\n",
    "                                                  transforms.Normalize((0.1307,), (0.3081,))])),\n",
    "                    batch_size=train_batch_size, shuffle=True, **kwargs)\n",
    "\n",
    "test_loader = torch.utils.data.DataLoader(datasets.MNIST('data', train=False, transform=transforms.Compose([\n",
    "                       transforms.ToTensor(),transforms.Normalize((0.1307,), (0.3081,))])),\n",
    "\n",
    "batch_size=test_batch_size, shuffle=True, **kwargs)\n",
    "\n"
   ]
  },
  {
   "cell_type": "markdown",
   "metadata": {},
   "source": [
    "## Setting up the Optimizer to optimize the loss function\n",
    "\n",
    "Using a simple stochastic gradient descent with nestrov's momentum "
   ]
  },
  {
   "cell_type": "code",
   "execution_count": 4,
   "metadata": {},
   "outputs": [
    {
     "data": {
      "text/latex": [
       "$$w:= w - \\eta \\sum_{i=1}^{n}\\delta Q_{i}(w)/n$$"
      ],
      "text/plain": [
       "<IPython.core.display.Math object>"
      ]
     },
     "metadata": {},
     "output_type": "display_data"
    }
   ],
   "source": [
    "from IPython.display import display, Math, Latex\n",
    "display(Math(r'w:= w - \\eta \\sum_{i=1}^{n}\\delta Q_{i}(w)/n'))"
   ]
  },
  {
   "cell_type": "code",
   "execution_count": 5,
   "metadata": {},
   "outputs": [],
   "source": [
    "import torch.optim as optim\n",
    "model = Net().to(device)\n",
    "optimizer = optim.SGD(model.parameters(), lr=lr, momentum=momentum)"
   ]
  },
  {
   "cell_type": "code",
   "execution_count": 6,
   "metadata": {},
   "outputs": [],
   "source": [
    "def train(model, device, train_loader, optimizer, epoch,log_interval):\n",
    "    model.train()\n",
    "    avg_loss = 0\n",
    "    # in training loop:\n",
    "    for batch_idx, (data, target) in enumerate(train_loader):\n",
    "        data, target = data.to(device), target.to(device)\n",
    "        optimizer.zero_grad() # zero the gradient buffers\n",
    "        output = model(data)\n",
    "        loss = F.nll_loss(output, target)\n",
    "        loss.backward()\n",
    "        optimizer.step() # Does the update\n",
    "        avg_loss+=F.nll_loss(output, target, reduction='sum').item()\n",
    "        \n",
    "        if batch_idx % log_interval == 0:\n",
    "            print('Train Epoch: {} [{}/{} ({:.0f}%)]\\tLoss: {:.6f}'.format(\n",
    "                epoch, batch_idx * len(data), len(train_loader.dataset),\n",
    "                100. * batch_idx / len(train_loader), loss.item()))\n",
    "    avg_loss/=len(train_loader.dataset)\n",
    "    return avg_loss\n",
    "\n",
    "def test(model, device, test_loader):\n",
    "    model.eval()\n",
    "    test_loss = 0\n",
    "    correct = 0\n",
    "    with torch.no_grad():\n",
    "        for data, target in test_loader:\n",
    "            data, target = data.to(device), target.to(device)\n",
    "            output = model(data)\n",
    "            test_loss += F.nll_loss(output, target, reduction='sum').item() # sum up batch loss\n",
    "            pred = output.argmax(dim=1, keepdim=True) # get the index of the max log-probability\n",
    "            correct += pred.eq(target.view_as(pred)).sum().item()\n",
    "\n",
    "    test_loss /= len(test_loader.dataset)\n",
    "\n",
    "    print('\\nTest set: Average loss: {:.4f}, Accuracy: {}/{} ({:.0f}%)\\n'.format(\n",
    "        test_loss, correct, len(test_loader.dataset),\n",
    "        100. * correct / len(test_loader.dataset)))\n",
    "    accuracy = 100. * correct / len(test_loader.dataset)\n",
    "    return test_loss,accuracy"
   ]
  },
  {
   "cell_type": "code",
   "execution_count": 7,
   "metadata": {
    "scrolled": true
   },
   "outputs": [
    {
     "name": "stdout",
     "output_type": "stream",
     "text": [
      "Train Epoch: 1 [0/60000 (0%)]\tLoss: 2.300039\n",
      "\n",
      "Test set: Average loss: 0.1018, Accuracy: 9663/10000 (97%)\n",
      "\n",
      "Train Epoch: 2 [0/60000 (0%)]\tLoss: 0.146140\n",
      "\n",
      "Test set: Average loss: 0.0614, Accuracy: 9825/10000 (98%)\n",
      "\n",
      "Train Epoch: 3 [0/60000 (0%)]\tLoss: 0.052315\n",
      "\n",
      "Test set: Average loss: 0.0562, Accuracy: 9813/10000 (98%)\n",
      "\n",
      "Train Epoch: 4 [0/60000 (0%)]\tLoss: 0.019015\n",
      "\n",
      "Test set: Average loss: 0.0409, Accuracy: 9864/10000 (99%)\n",
      "\n",
      "Train Epoch: 5 [0/60000 (0%)]\tLoss: 0.010967\n",
      "\n",
      "Test set: Average loss: 0.0380, Accuracy: 9874/10000 (99%)\n",
      "\n",
      "Train Epoch: 6 [0/60000 (0%)]\tLoss: 0.127716\n",
      "\n",
      "Test set: Average loss: 0.0338, Accuracy: 9888/10000 (99%)\n",
      "\n",
      "Train Epoch: 7 [0/60000 (0%)]\tLoss: 0.027539\n",
      "\n",
      "Test set: Average loss: 0.0345, Accuracy: 9873/10000 (99%)\n",
      "\n",
      "Train Epoch: 8 [0/60000 (0%)]\tLoss: 0.004211\n",
      "\n",
      "Test set: Average loss: 0.0394, Accuracy: 9877/10000 (99%)\n",
      "\n",
      "Train Epoch: 9 [0/60000 (0%)]\tLoss: 0.090090\n",
      "\n",
      "Test set: Average loss: 0.0292, Accuracy: 9910/10000 (99%)\n",
      "\n",
      "Train Epoch: 10 [0/60000 (0%)]\tLoss: 0.125310\n",
      "\n",
      "Test set: Average loss: 0.0321, Accuracy: 9895/10000 (99%)\n",
      "\n",
      "Train Epoch: 11 [0/60000 (0%)]\tLoss: 0.008019\n",
      "\n",
      "Test set: Average loss: 0.0303, Accuracy: 9896/10000 (99%)\n",
      "\n",
      "Train Epoch: 12 [0/60000 (0%)]\tLoss: 0.035579\n",
      "\n",
      "Test set: Average loss: 0.0271, Accuracy: 9913/10000 (99%)\n",
      "\n",
      "Train Epoch: 13 [0/60000 (0%)]\tLoss: 0.018132\n",
      "\n",
      "Test set: Average loss: 0.0284, Accuracy: 9913/10000 (99%)\n",
      "\n",
      "Train Epoch: 14 [0/60000 (0%)]\tLoss: 0.008078\n",
      "\n",
      "Test set: Average loss: 0.0276, Accuracy: 9911/10000 (99%)\n",
      "\n",
      "Train Epoch: 15 [0/60000 (0%)]\tLoss: 0.007842\n",
      "\n",
      "Test set: Average loss: 0.0258, Accuracy: 9914/10000 (99%)\n",
      "\n",
      "Train Epoch: 16 [0/60000 (0%)]\tLoss: 0.001491\n",
      "\n",
      "Test set: Average loss: 0.0262, Accuracy: 9914/10000 (99%)\n",
      "\n",
      "Train Epoch: 17 [0/60000 (0%)]\tLoss: 0.001637\n",
      "\n",
      "Test set: Average loss: 0.0248, Accuracy: 9924/10000 (99%)\n",
      "\n",
      "Train Epoch: 18 [0/60000 (0%)]\tLoss: 0.011664\n",
      "\n",
      "Test set: Average loss: 0.0277, Accuracy: 9917/10000 (99%)\n",
      "\n",
      "Train Epoch: 19 [0/60000 (0%)]\tLoss: 0.023257\n",
      "\n",
      "Test set: Average loss: 0.0297, Accuracy: 9906/10000 (99%)\n",
      "\n",
      "Train Epoch: 20 [0/60000 (0%)]\tLoss: 0.000937\n",
      "\n",
      "Test set: Average loss: 0.0284, Accuracy: 9906/10000 (99%)\n",
      "\n",
      "Train Epoch: 21 [0/60000 (0%)]\tLoss: 0.002732\n",
      "\n",
      "Test set: Average loss: 0.0246, Accuracy: 9920/10000 (99%)\n",
      "\n",
      "Train Epoch: 22 [0/60000 (0%)]\tLoss: 0.000329\n",
      "\n",
      "Test set: Average loss: 0.0311, Accuracy: 9907/10000 (99%)\n",
      "\n",
      "Train Epoch: 23 [0/60000 (0%)]\tLoss: 0.002051\n",
      "\n",
      "Test set: Average loss: 0.0264, Accuracy: 9912/10000 (99%)\n",
      "\n",
      "Train Epoch: 24 [0/60000 (0%)]\tLoss: 0.001115\n",
      "\n",
      "Test set: Average loss: 0.0250, Accuracy: 9921/10000 (99%)\n",
      "\n",
      "Train Epoch: 25 [0/60000 (0%)]\tLoss: 0.001492\n",
      "\n",
      "Test set: Average loss: 0.0288, Accuracy: 9915/10000 (99%)\n",
      "\n",
      "Train Epoch: 26 [0/60000 (0%)]\tLoss: 0.000727\n",
      "\n",
      "Test set: Average loss: 0.0294, Accuracy: 9909/10000 (99%)\n",
      "\n",
      "Train Epoch: 27 [0/60000 (0%)]\tLoss: 0.008881\n",
      "\n",
      "Test set: Average loss: 0.0284, Accuracy: 9916/10000 (99%)\n",
      "\n",
      "Train Epoch: 28 [0/60000 (0%)]\tLoss: 0.003079\n",
      "\n",
      "Test set: Average loss: 0.0279, Accuracy: 9919/10000 (99%)\n",
      "\n",
      "Train Epoch: 29 [0/60000 (0%)]\tLoss: 0.000659\n",
      "\n",
      "Test set: Average loss: 0.0291, Accuracy: 9924/10000 (99%)\n",
      "\n",
      "Train Epoch: 30 [0/60000 (0%)]\tLoss: 0.000261\n",
      "\n",
      "Test set: Average loss: 0.0286, Accuracy: 9912/10000 (99%)\n",
      "\n"
     ]
    }
   ],
   "source": [
    "train_losses = []\n",
    "test_losses = []\n",
    "accuracy_list = []\n",
    "for epoch in range(1, epochs + 1):\n",
    "    trn_loss = train(model, device, train_loader, optimizer, epoch,log_interval)\n",
    "    test_loss,accuracy = test(model, device, test_loader)\n",
    "    train_losses.append(trn_loss)\n",
    "    test_losses.append(test_loss)\n",
    "    accuracy_list.append(accuracy)\n",
    "\n",
    "if (save_model):\n",
    "    torch.save(model.state_dict(),\"mnist_cnn.pt\")"
   ]
  },
  {
   "cell_type": "markdown",
   "metadata": {},
   "source": [
    "## Plotting the losses and Accuracy"
   ]
  },
  {
   "cell_type": "code",
   "execution_count": 8,
   "metadata": {},
   "outputs": [
    {
     "data": {
      "image/png": "[encoded data removed]",
      "text/plain": [
       "<matplotlib.figure.Figure at 0x7fb228e60fd0>"
      ]
     },
     "metadata": {},
     "output_type": "display_data"
    },
    {
     "data": {
      "image/png": "[encoded data removed]",
      "text/plain": [
       "<matplotlib.figure.Figure at 0x7fb228b4de10>"
      ]
     },
     "metadata": {},
     "output_type": "display_data"
    }
   ],
   "source": [
    "import matplotlib.pyplot as plt\n",
    "%matplotlib inline\n",
    "plt.plot(train_losses,'b')\n",
    "plt.plot(test_losses,'r')\n",
    "plt.ylabel('Loss')\n",
    "plt.show()\n",
    "plt.plot(accuracy_list,'g')\n",
    "plt.ylabel('accuracy')\n",
    "plt.show()"
   ]
  }
 ],
 "metadata": {
  "kernelspec": {
   "display_name": "Python 2",
   "language": "python",
   "name": "python2"
  },
  "language_info": {
   "codemirror_mode": {
    "name": "ipython",
    "version": 2
   },
   "file_extension": ".py",
   "mimetype": "text/x-python",
   "name": "python",
   "nbconvert_exporter": "python",
   "pygments_lexer": "ipython2",
   "version": "2.7.12"
  },
  "toc": {
   "base_numbering": 1,
   "nav_menu": {
    "height": "143px",
    "width": "505px"
   },
   "number_sections": true,
   "sideBar": true,
   "skip_h1_title": false,
   "title_cell": "Table of Contents",
   "title_sidebar": "Tutorial_001",
   "toc_cell": true,
   "toc_position": {
    "height": "434px",
    "left": "141px",
    "top": "195.333px",
    "width": "381px"
   },
   "toc_section_display": true,
   "toc_window_display": true
  }
 },
 "nbformat": 4,
 "nbformat_minor": 2
}
